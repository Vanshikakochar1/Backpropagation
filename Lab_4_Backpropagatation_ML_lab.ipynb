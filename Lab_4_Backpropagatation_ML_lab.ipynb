{
  "nbformat": 4,
  "nbformat_minor": 0,
  "metadata": {
    "colab": {
      "provenance": []
    },
    "kernelspec": {
      "name": "python3",
      "display_name": "Python 3"
    },
    "language_info": {
      "name": "python"
    }
  },
  "cells": [
    {
      "cell_type": "code",
      "execution_count": null,
      "metadata": {
        "id": "77vwjnvlWLRx"
      },
      "outputs": [],
      "source": [
        "import numpy as np\n",
        "X = np.array(([2, 9], [1, 5], [3, 6]), dtype=float)\n",
        "y = np.array(([92], [86], [89]), dtype=float)\n",
        "X = X/np.amax(X,axis=0) # maximum of X array longitudinally y = y/100\n",
        "#Sigmoid Function\n",
        "def sigmoid (x):\n",
        "  return 1/(1 + np.exp(-x))\n",
        "\n",
        "#Derivative of Sigmoid Function\n",
        "def derivatives_sigmoid(x):\n",
        "  return x * (1 - x)\n"
      ]
    },
    {
      "cell_type": "code",
      "source": [
        "#Variable initialization\n",
        "epoch=5000\t#Setting training iterations \n",
        "lr=0.1\t#Setting learning rate\n",
        "inputlayer_neurons = 2\t#number of features in data set \n",
        "hiddenlayer_neurons = 3\t#number of hidden layers neurons\n",
        "output_neurons = 1\t#number of neurons at output layer\n",
        " \n"
      ],
      "metadata": {
        "id": "Jl7hV8fMWPC8"
      },
      "execution_count": null,
      "outputs": []
    },
    {
      "cell_type": "code",
      "source": [
        "#weight and bias initialization \n",
        "wh=np.random.uniform(size=(inputlayer_neurons,hiddenlayer_neurons))\n",
        "bh=np.random.uniform(size=(1,hiddenlayer_neurons))\n",
        "wout=np.random.uniform(size=(hiddenlayer_neurons,output_neurons))\n",
        "bout=np.random.uniform(size=(1,output_neurons))\n",
        "\n"
      ],
      "metadata": {
        "id": "MrtaJBeiWRTy"
      },
      "execution_count": null,
      "outputs": []
    },
    {
      "cell_type": "code",
      "source": [
        "#draws a random range of numbers uniformly of dim x*y \n",
        "for i in range(epoch):\n",
        "  \n",
        "#Forward Propogation\n",
        "  hinp1=np.dot(X,wh) \n",
        "  hinp=hinp1 + bh\n",
        "  hlayer_act = sigmoid(hinp)\n",
        "  outinp1=np.dot(hlayer_act,wout) \n",
        "  outinp= outinp1+ bout\n",
        "  output = sigmoid(outinp)\n",
        "\n",
        "\n",
        "#Backpropagation\n",
        "  EO = y-output\n",
        "  outgrad = derivatives_sigmoid(output)\n",
        "  d_output = EO* outgrad\n",
        "  EH = d_output.dot(wout.T)\n"
      ],
      "metadata": {
        "id": "XTTDW8RfWUY3"
      },
      "execution_count": null,
      "outputs": []
    },
    {
      "cell_type": "code",
      "source": [
        "#how much hidden layer wts contributed to error \n",
        "hiddengrad = derivatives_sigmoid(hlayer_act)\n",
        "d_hiddenlayer = EH * hiddengrad\n",
        "\n",
        "# dotproduct of nextlayererror and currentlayerop \n",
        "wout += hlayer_act.T.dot(d_output) *lr\n",
        "wh += X.T.dot(d_hiddenlayer) *lr\n",
        "\n",
        "print(\"Input: \\n\" + str(X)) \n",
        "print(\"Actual Output: \\n\" + str(y)) \n",
        "print(\"Predicted Output: \\n\" ,output)\n"
      ],
      "metadata": {
        "colab": {
          "base_uri": "https://localhost:8080/"
        },
        "id": "3bVbficiWXra",
        "outputId": "52440cd6-1a6a-45ce-c16f-5809fc5b0ceb"
      },
      "execution_count": null,
      "outputs": [
        {
          "output_type": "stream",
          "name": "stdout",
          "text": [
            "Input: \n",
            "[[0.66666667 1.        ]\n",
            " [0.33333333 0.55555556]\n",
            " [1.         0.66666667]]\n",
            "Actual Output: \n",
            "[[92.]\n",
            " [86.]\n",
            " [89.]]\n",
            "Predicted Output: \n",
            " [[0.79829696]\n",
            " [0.79115691]\n",
            " [0.79851115]]\n"
          ]
        }
      ]
    }
  ]
}